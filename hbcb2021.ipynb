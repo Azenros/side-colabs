{
  "nbformat": 4,
  "nbformat_minor": 0,
  "metadata": {
    "colab": {
      "name": "hbcb2021.ipynb",
      "provenance": [],
      "collapsed_sections": [],
      "authorship_tag": "ABX9TyO9e2GcmnQ46vzdB7/tXUrT",
      "include_colab_link": true
    },
    "kernelspec": {
      "name": "python3",
      "display_name": "Python 3"
    }
  },
  "cells": [
    {
      "cell_type": "markdown",
      "metadata": {
        "id": "view-in-github",
        "colab_type": "text"
      },
      "source": [
        "<a href=\"https://colab.research.google.com/github/Azenros/side-colabs/blob/main/hbcb2021.ipynb\" target=\"_parent\"><img src=\"https://colab.research.google.com/assets/colab-badge.svg\" alt=\"Open In Colab\"/></a>"
      ]
    },
    {
      "cell_type": "code",
      "metadata": {
        "id": "q2XYrNNIyjZq"
      },
      "source": [
        "# Auto-generating a leaderboard (and other tools) for HBCB 2021 (hbcb.caard.co)\n",
        "#   last updated: May 30, 2021\n",
        "#   original at https://colab.research.google.com/drive/1CGGlooH7wo3OYvfA6RmrP7nZa7vIECfm?usp=sharing\n",
        "\n",
        "# Requirements:\n",
        "#    - All scores are in individual tabs in a SINGLE spreadsheet \n",
        "#    - ^ said spreadsheet must only contain scoresheets\n",
        "#    - Names and scores must be a single cell each, in a constant location \n",
        "#      (same throughout all sheets, intended for copied judge sheets)\n",
        "#    - If you have a leaderboard sheet, make sure that the leaderboard sheet\n",
        "#      is in a SEPERATE spreadsheet with one tab (if you don't have a \n",
        "#      leaderboard sheet, this will make one for you as a new tab in the same\n",
        "#      sheet)\n",
        "#         - 3 columns required for team name, score, total ranking\n",
        "#         - +4 columns if you include rankings for vox, art, mix, anim \n",
        "\n",
        "# Current Bugs/Errors:\n",
        "#    - Bug: bad user input will cause data to overwrite existing data in cells"
      ],
      "execution_count": null,
      "outputs": []
    },
    {
      "cell_type": "code",
      "metadata": {
        "id": "jbVJiwqEalUT",
        "colab": {
          "base_uri": "https://localhost:8080/"
        },
        "outputId": "19505c10-42c9-4e00-bb09-71d9e533a59d"
      },
      "source": [
        "## Authorization (run this block first!)\n",
        "!pip install --upgrade gspread\n",
        "import gspread\n",
        "from google.colab import auth\n",
        "from google.colab import drive\n",
        "from google.colab import output\n",
        "from oauth2client.client import GoogleCredentials\n",
        "\n",
        "# authorization must be done before you can run anything below\n",
        "auth.authenticate_user()\n",
        "gc = gspread.authorize(GoogleCredentials.get_application_default())\n",
        "output.clear()\n",
        "\n",
        "print('Verification completed')\n"
      ],
      "execution_count": 3,
      "outputs": [
        {
          "output_type": "stream",
          "text": [
            "Verification completed\n"
          ],
          "name": "stdout"
        }
      ]
    },
    {
      "cell_type": "code",
      "metadata": {
        "colab": {
          "base_uri": "https://localhost:8080/"
        },
        "id": "aUN4uAjmLGc7",
        "outputId": "ea5b8cf4-b4b4-49d8-a718-c7237b13c694"
      },
      "source": [
        "## Variables\n",
        "\n",
        "# id of spreadsheet to pull data from (long string of alphanumerals in the link)\n",
        "spreadsheet_key = '1KX5U8PqH95HZ-eJeG7dFz6dqr7kSCqWibRszYUbkTR0'\n",
        "# if referencing a merged cell, use the top-left corner\n",
        "teamName_location = 'B3' \n",
        "teamScore_location = 'M33'\n",
        "\n",
        "# if you already have a leaderboard sheet prepped, set this to \"True\"\n",
        "hasLeaderBoardSheet = False\n",
        "# if hasLeaderBoardSheet is true, use these variables to place the data\n",
        "leaderboard_key = ''\n",
        "lb_topLeftCorner_location = ''\n",
        "\n",
        "# do you include placement rankings for individual categories?\n",
        "# (vox, mix, art, anim); if yes, set this to \"True\"\n",
        "ranks = True\n",
        "# locations of total category scores\n",
        "vox_score_loc = 'G11'\n",
        "mix_score_loc = 'O11'\n",
        "art_score_loc = 'G18'\n",
        "vid_score_loc = 'N18'\n",
        "\n",
        "print('Variables Set')\n",
        "# after running this block run the block below"
      ],
      "execution_count": 16,
      "outputs": [
        {
          "output_type": "stream",
          "text": [
            "Variables Set\n"
          ],
          "name": "stdout"
        }
      ]
    },
    {
      "cell_type": "code",
      "metadata": {
        "colab": {
          "base_uri": "https://localhost:8080/"
        },
        "id": "fTwuDUze1j7k",
        "outputId": "62f94879-98f0-4576-ce3a-9d7862889846"
      },
      "source": [
        "## Sub-function definitions\n",
        "def setRanks(name_list, check_ind, set_ind):\n",
        "  temp_rank = 0\n",
        "  temp_score = 0\n",
        "  tie_count=0\n",
        "  for team in name_list:\n",
        "    if (temp_score != team[check_ind]):\n",
        "      temp_rank += tie_count + 1\n",
        "      tie_count = 0\n",
        "    else:\n",
        "      tie_count += 1\n",
        "    temp_score = team[check_ind]\n",
        "    team[set_ind] = temp_rank\n",
        "\n",
        "def fillList(sheet_list, return_list, var_list):\n",
        "  for sheet in sheet_list:\n",
        "    temp = []\n",
        "    for var in var_list:\n",
        "      temp.append(sheet.acell(var).value)\n",
        "    return_list.append(temp)\n",
        "\n",
        "# set ranks to a certain list.\n",
        "def addRanks(name_list, score_loc):\n",
        "  ind_rank = []\n",
        "  fillList(sheet_list, ind_rank, score_loc)\n",
        "  ind = 1;\n",
        "  while (ind < 5):\n",
        "    ind_rank.sort(key = lambda x: float(x[ind]), reverse=True)\n",
        "    setRanks(ind_rank, ind, ind)\n",
        "    ind += 1\n",
        "  ind_dict = {}\n",
        "  for team in ind_rank:\n",
        "    ind_dict[team[0]] = team[1:]\n",
        "  for team in name_list:\n",
        "    team.extend(ind_dict[team[0]])\n",
        "\n",
        "print(\"Functions defined\")\n",
        "# after running this block run the block below"
      ],
      "execution_count": 17,
      "outputs": [
        {
          "output_type": "stream",
          "text": [
            "Functions defined\n"
          ],
          "name": "stdout"
        }
      ]
    },
    {
      "cell_type": "code",
      "metadata": {
        "colab": {
          "base_uri": "https://localhost:8080/"
        },
        "id": "gg7ePFsrLFdV",
        "outputId": "e2895725-8e19-4f15-d2c3-8b1c5288e3da"
      },
      "source": [
        "## Leaderboard Function\n",
        "\n",
        "# run the above two blocks of code before running this one\n",
        "\n",
        "# this block of code will throw an error if a leaderboard tab is already\n",
        "# made on the scoresheet\n",
        "\n",
        "# open the sheet and get list of sheets\n",
        "ws = gc.open_by_key(spreadsheet_name)\n",
        "sheet_list = ws.worksheets()\n",
        "name_list = []\n",
        "\n",
        "# gets data from each team\n",
        "name_vars = [teamName_location, teamScore_location]\n",
        "fillList(sheet_list, name_list, name_vars)\n",
        "for name in name_list:\n",
        "  name.append(0)\n",
        "\n",
        "print(\"Name list created\")\n",
        "\n",
        "# sort from highest to lowest total score\n",
        "name_list.sort(key = lambda x: float(x[1]), reverse=True)\n",
        "team_count = len(name_list)\n",
        "\n",
        "# getting overall ranks\n",
        "setRanks(name_list, 1, 2)\n",
        "print(\"Overall ranks done\")\n",
        "\n",
        "# getting category ranks\n",
        "if (ranks):\n",
        "  score_loc = [teamName_location, vox_score_loc, art_score_loc, \n",
        "                                  mix_score_loc, vid_score_loc]\n",
        "  addRanks(name_list, score_loc)\n",
        "  print(\"Individual ranks done\")\n",
        "\n",
        "\n",
        "# inserts values into a new/existing sheet\n",
        "extend = 22\n",
        "titles = ['Team Name', 'Score', 'Rank (Overall)']\n",
        "if (ranks):\n",
        "  titles += ['Vox Rank', 'Art Rank','Mix Rank', 'Vid Rank']\n",
        "\n",
        "if (hasLeaderBoardSheet == False):\n",
        "  name_list.insert(0,titles)\n",
        "  range_size = 4 + len(name_list) + extend\n",
        "  col_begin = 'B'\n",
        "  range = col_begin + '2:' + chr(ord(col_begin) + \n",
        "          len(name_list[0])) + str(3 + team_count)\n",
        "  print(\"Range defind as \" + range)\n",
        "  col_size = 6 + extend\n",
        "  if (ranks == True):\n",
        "    col_size += 4\n",
        "\n",
        "  le_ws = ws.add_worksheet(title='Leaderboard', \n",
        "                   rows=str(range_size),\n",
        "                   cols=str(col_size))\n",
        "  \n",
        "  le_ws.update(range, name_list)\n",
        "else:\n",
        "  lb = gc.open_by_key(leaderboard_key).sheet1\n",
        "  ch = lb_topLeftCorner_location\n",
        "  range = ch + ':' + chr(ord(ch[0]) + 1) + str(int(ch[1]) + len(name_list))\n",
        "  print(range)\n",
        "  lb.update(range, name_list)\n",
        "\n",
        "print(\"Leaderboard created successfully\")"
      ],
      "execution_count": null,
      "outputs": [
        {
          "output_type": "stream",
          "text": [
            "Name list created\n",
            "Overall ranks done\n",
            "Individual ranks done\n",
            "B2:I20\n",
            "Leaderboard created successfully\n"
          ],
          "name": "stdout"
        }
      ]
    },
    {
      "cell_type": "code",
      "metadata": {
        "colab": {
          "base_uri": "https://localhost:8080/"
        },
        "id": "G9ecmN1KyNx4",
        "outputId": "014de999-cb73-4d3e-cc41-021d3ca79395"
      },
      "source": [
        "# Spreadsheet Splitter\n",
        "# 1 spreadsheet with N tabs -> N spreadsheets with 1 tab\n",
        "\n",
        "spreadsheet_id = '1KX5U8PqH95HZ-eJeG7dFz6dqr7kSCqWibRszYUbkTR0'\n",
        "folder_id = '1UR1ThfzQ8REgKPe0EQfuHOuucemvnlIs'\n",
        "\n",
        "ws = gc.open_by_key(spreadsheet_id)\n",
        "\n",
        "round_str = \": HBCB-R1 Results\"\n",
        "\n",
        "# for each sheet make new spreadsheet in folder and clone tab to it\n",
        "for sheet in ws.worksheets():\n",
        "  new_ss = gc.create(sheet.title + round_str, folder_id)\n",
        "  new_ssId = new_ss.id\n",
        "  sheet.copy_to(new_ssId)\n",
        "  new_ss.del_worksheet(new_ss.sheet1)\n",
        "  new_ss.sheet1.delete_row(5)\n",
        "  new_ss.sheet1.update_title(sheet.title)\n",
        "  print(sheet.title + ' copied into folder')\n",
        "\n",
        "print(\"Complete!\")"
      ],
      "execution_count": null,
      "outputs": [
        {
          "output_type": "stream",
          "text": [
            "Team_Name copied into folder\n",
            "Template copied into folder\n",
            "test1 copied into folder\n",
            "test2 copied into folder\n",
            "test3 copied into folder\n",
            "Leaderboard_test copied into folder\n",
            "Complete!\n"
          ],
          "name": "stdout"
        }
      ]
    },
    {
      "cell_type": "code",
      "metadata": {
        "id": "2_qoSNE_xUQx"
      },
      "source": [
        "## Judge Sheet Cloner using Team Data\n",
        "# clones template sheet, then fills with each team's data\n",
        "team_data_key = '1Amrey1K1ZRv4Z3YD07hWB5PhUavbN7lJZdnz8M6szSg'\n",
        "clone_sheet_key = '1KX5U8PqH95HZ-eJeG7dFz6dqr7kSCqWibRszYUbkTR0'\n",
        "\n",
        "hyperl = '=HYPERLINK(\\\"'\n",
        "\n",
        "td = gc.open_by_key(team_data_key)\n",
        "cs = gc.open_by_key(clone_sheet_key)\n",
        "\n",
        "numgroups = 2\n",
        "for index in range(2, numgroups + 2):\n",
        "  # locations to grab info from team data sheet\n",
        "  team_name = td.sheet1.acell(\"C\" + str(index)).value\n",
        "  links = [hyperl + td.sheet1.acell(\"D\" + str(index)).value + '\", \"Video Link\")',\n",
        "           hyperl + td.sheet1.acell(\"E\" + str(index)).value + '\", \"Alternate Link\")', \n",
        "           hyperl + td.sheet1.acell(\"F\" + str(index)).value + '\", \"Script & Theme\")', \n",
        "           hyperl + td.sheet1.acell(\"G\" + str(index)).value + '\", \"Art Folder\")',\n",
        "           hyperl + td.sheet1.acell(\"H\" + str(index)).value + '\", \"Audio Folder\")',\n",
        "           hyperl + td.sheet1.acell(\"I\" + str(index)).value + '\", \"Asset Folder\")']\n",
        "\n",
        "  # makes new sheet and fills in hyperlinks\n",
        "  cs.sheet1.copy_to(clone_sheet_key)\n",
        "  ns = cs.get_worksheet(index - 1)\n",
        "  ns.update_title(team_name)\n",
        "  ns.update_cell(3, 2, team_name)\n",
        "  l = 0\n",
        "  for col in range(3,15,2):\n",
        "    ns.update_cell(5,col, links[l])\n",
        "    l += 1\n",
        "\n",
        "  print(\"Spreadsheet created for \" + team_name)\n"
      ],
      "execution_count": 15,
      "outputs": []
    },
    {
      "cell_type": "code",
      "metadata": {
        "id": "GWqhAVF_z9Mn"
      },
      "source": [
        ""
      ],
      "execution_count": null,
      "outputs": []
    }
  ]
}